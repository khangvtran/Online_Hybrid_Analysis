{
 "cells": [
  {
   "cell_type": "code",
   "execution_count": 6,
   "metadata": {},
   "outputs": [
    {
     "name": "stdout",
     "output_type": "stream",
     "text": [
      "XLSX\n",
      "CSV\n",
      "CSV\n",
      "(54, 34)\n",
      "[[   4.    10.     5.  ...,    0.     0.     0. ]\n",
      " [  15.    15.    15.  ...,   73.    87.     2. ]\n",
      " [  15.    15.    15.  ...,   88.5  141.     2. ]\n",
      " ..., \n",
      " [  10.4   14.5   15.  ...,   77.   139.     0. ]\n",
      " [  14.5   15.    14.5 ...,   89.5  148.     2. ]\n",
      " [  13.5   13.    15.  ...,   50.5   80.     2. ]]\n",
      "(54, 34)\n",
      "[[  14.5   14.5    8.  ...,   88.5  125.     0. ]\n",
      " [  14.5   13.5    0.  ...,   68.   110.     2. ]\n",
      " [  14.5   12.5   15.  ...,   85.   106.     2. ]\n",
      " ..., \n",
      " [  13.5   13.5   14.  ...,   71.5  101.     2. ]\n",
      " [  14.5   14.5   15.  ...,   86.5  129.     2. ]\n",
      " [  14.5   14.5   15.  ...,   95.5  146.     2. ]]\n"
     ]
    },
    {
     "data": {
      "text/plain": [
       "\"\\ndef main() :\\n    (arrH, arrO)= readFile('data1.xlsx', 'data2.csv','data3.csv')\\n    analyze(arrH, arrO)\\n\\n#main()\\n\\n\""
      ]
     },
     "execution_count": 6,
     "metadata": {},
     "output_type": "execute_result"
    }
   ],
   "source": [
    "# lab 2: Analyze and plot scores\n",
    "# Name: Khang Vinh Tran, Mega Putra\n",
    "\n",
    "import openpyxl\n",
    "import csv\n",
    "import numpy as np\n",
    "\n",
    "\n",
    "def readExcel(fileName) :\n",
    "    try:\n",
    "        listO = list()\n",
    "        listH = list()\n",
    "        wb = openpyxl.load_workbook(fileName)\n",
    "        sheet = wb.active\n",
    "        for row in sheet:\n",
    "            temp = list()\n",
    "            if (row[0].value == \"H\"):\n",
    "                for cell in row[1:] : temp.append(cell.value)\n",
    "                listH.append(temp)\n",
    "            elif (row[0].value == \"O\"):\n",
    "                for cell in row[1:] : temp.append(cell.value)\n",
    "                listO.append(temp)\n",
    "        return(tuple([listH, listO]))\n",
    "    except FileNotFoundError as e:\n",
    "        print(str(e))\n",
    "        \n",
    "#fileName = \"data1.xlsx\"\n",
    "#a = readExcel(fileName)\n",
    "#print(a)\n",
    "\n",
    "\n",
    "\n",
    "def readCSV(fileName) :\n",
    "    try:\n",
    "        listO = list()\n",
    "        listH = list()        \n",
    "        with open(fileName, \"r\") as inFile:\n",
    "            reader = csv.reader(inFile)\n",
    "            for row in reader:\n",
    "                if (row[0] == \"H\") : listH.append(list(map(float, row[1:])))\n",
    "                elif (row[0] == \"O\") : listO.append(list(map(float, row[1:])))\n",
    "            inFile.close()   # close the file\n",
    "            return(tuple([listH, listO]))\n",
    "    except FileNotFoundError as e:\n",
    "        print(str(e))\n",
    " \n",
    "#b = readCSV(\"data2.csv\")\n",
    "#print(b)\n",
    "\n",
    "def readFile(*args) :\n",
    "    listH = list()\n",
    "    listO = list()\n",
    "    for fileName in args:\n",
    "        if \".xlsx\" in fileName:\n",
    "            print(\"XLSX\")\n",
    "            temp = readExcel(fileName)\n",
    "            [listH.append(record) for record in temp[0]]\n",
    "            [listO.append(record) for record in temp [1]]\n",
    "        elif \".csv\" in fileName:\n",
    "            print(\"CSV\")\n",
    "            temp = readCSV(fileName)\n",
    "            [listH.append(record) for record in temp[0]]\n",
    "            [listO.append(record) for record in temp [1]]\n",
    "            \n",
    "    arrH = np.array(listH)\n",
    "    arrO = np.array(listO)\n",
    "    return(tuple([arrH, arrO]))\n",
    "\n",
    "(arrH, arrO)= readFile('data1.xlsx', 'data2.csv','data3.csv')\n",
    "print(arrH.shape)\n",
    "print(arrH)\n",
    "print(arrO.shape)\n",
    "print(arrO)\n",
    "\n",
    "\n",
    "def analyze(   ) :\n",
    "    pass\n",
    "\n",
    "'''\n",
    "def main() :\n",
    "    (arrH, arrO)= readFile('data1.xlsx', 'data2.csv','data3.csv')\n",
    "    analyze(arrH, arrO)\n",
    "\n",
    "#main()\n",
    "\n",
    "'''"
   ]
  },
  {
   "cell_type": "code",
   "execution_count": null,
   "metadata": {
    "collapsed": true
   },
   "outputs": [],
   "source": []
  }
 ],
 "metadata": {
  "kernelspec": {
   "display_name": "Python 3",
   "language": "python",
   "name": "python3"
  },
  "language_info": {
   "codemirror_mode": {
    "name": "ipython",
    "version": 3
   },
   "file_extension": ".py",
   "mimetype": "text/x-python",
   "name": "python",
   "nbconvert_exporter": "python",
   "pygments_lexer": "ipython3",
   "version": "3.5.2"
  }
 },
 "nbformat": 4,
 "nbformat_minor": 2
}
